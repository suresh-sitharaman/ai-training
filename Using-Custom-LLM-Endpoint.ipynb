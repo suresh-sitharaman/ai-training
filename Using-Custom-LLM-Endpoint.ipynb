{
 "cells": [
  {
   "cell_type": "markdown",
   "id": "9d062295-3f3b-4298-b6e2-c1c17d46e9ea",
   "metadata": {},
   "source": [
    "# Using Custom LLM Endpoints\n",
    "\n",
    "This notebook demonstates how you can use LLMs that are hosted within your own organization/enterprise. In this notebook, we will be using MITRE hosted LLMs to demonstrate this.\n"
   ]
  },
  {
   "cell_type": "code",
   "execution_count": 32,
   "id": "09d55f49-018a-46c4-9430-73bb6614ff25",
   "metadata": {},
   "outputs": [],
   "source": [
    "%%capture --no-stderr\n",
    "# install the required dependencies\n",
    "%pip install -U langchain-openai langgraph langchain_openai"
   ]
  },
  {
   "cell_type": "code",
   "execution_count": 33,
   "id": "1eb4c74e-3c20-4d0b-b1c8-04cf90d0db98",
   "metadata": {},
   "outputs": [
    {
     "name": "stdin",
     "output_type": "stream",
     "text": [
      "Enter MITRE LLM Endpoint API Key: ········\n"
     ]
    }
   ],
   "source": [
    "import getpass\n",
    "\n",
    "MITRE_API_KEY = getpass.getpass(prompt=\"Enter MITRE LLM Endpoint API Key:\")\n"
   ]
  },
  {
   "cell_type": "code",
   "execution_count": 77,
   "id": "fc5bb440-e68d-473a-a8c4-80eae42fc233",
   "metadata": {},
   "outputs": [],
   "source": [
    "from typing import Optional, Literal\n",
    "from typing_extensions import TypedDict\n",
    "from langgraph.graph import StateGraph, START, END\n",
    "from langchain_openai import ChatOpenAI\n",
    "import random\n",
    "\n",
    "# Input Object\n",
    "class InputState(TypedDict):\n",
    "    query: str\n",
    "\n",
    "# Output Object\n",
    "class OutputState(InputState):\n",
    "    dice_roll: int\n",
    "    user_guess: int\n",
    "    response: str\n",
    "\n",
    "# Create a generic client\n",
    "def create_generic_client(\n",
    "    base_url: str,\n",
    "    model: str,\n",
    "    api_key: str,\n",
    "    temperature=0.8,\n",
    "):\n",
    "    return ChatOpenAI(\n",
    "        temperature=temperature,\n",
    "        api_key=api_key,\n",
    "        base_url=base_url,\n",
    "        model=model,\n",
    "        top_p=0.3,\n",
    "    )\n",
    "\n",
    "# Custom hosted LLM Endpoints\n",
    "# Mixtral 22B parameter\n",
    "MITRE_MIXTRAL_8x22B_URL = \"https://mixtral-8x22b.k8s.aip.mitre.org/v1\"\n",
    "MITRE_MIXTRAL_8x22B_MODEL = \"mistralai/Mixtral-8x22B-Instruct-v0.1\"\n",
    "\n",
    "# Llama 70B parameter\n",
    "MITRE_LLAMA_11B_URL = \"https://llama32-11b.k8s.aip.mitre.org/v1\"\n",
    "MITRE_LLAMA_11B_MODEL = \"meta/llama-3.2-11b-vision-instruct\"\n",
    "\n",
    "# Feel free to choose one of the two LLM endpoints defined above\n",
    "# Here, we are using the Mixtral endpoint/model\n",
    "client = create_generic_client(base_url=MITRE_MIXTRAL_8x22B_URL, \n",
    "                               model=MITRE_MIXTRAL_8x22B_MODEL, \n",
    "                               api_key=MITRE_API_KEY)\n",
    "\n",
    "async def user_guess(state: InputState) -> OutputState:\n",
    "    messages = [\n",
    "        (\n",
    "            \"system\",\n",
    "            \"You are a helpful assistant. Extract the users guess for the dice roll and return the guess as a numerical value. Do not provide any explanation, just the number that the user guessed\",\n",
    "        ),\n",
    "        (\"human\", state[\"query\"]),\n",
    "    ]\n",
    "\n",
    "    guess = client.invoke(messages).content\n",
    "    return OutputState(user_guess=int(guess))\n",
    "    \n",
    "    \n",
    "async def roll_dice(state: OutputState) -> OutputState:\n",
    "    return OutputState(dice_roll=random.randint(1, 6))\n",
    "\n",
    "async def success_message(state: OutputState) -> OutputState:\n",
    "    return OutputState(response=\"Congratulations!!!! You hit the Jackpot\")\n",
    "\n",
    "async def passifying_message(state: OutputState) -> OutputState:\n",
    "    response = client.invoke(\"In 4 to 5 sentences, tell a positive, uplifting story to cheer someone up when they are down on their luck.\")\n",
    "    return OutputState(response=response.content)\n",
    "    \n",
    "\n",
    "async def router(state: OutputState) -> Literal[\"success\", \"failure\"]:\n",
    "    return \"success\" if state[\"dice_roll\"]==state[\"user_guess\"] else \"failure\"\n"
   ]
  },
  {
   "cell_type": "code",
   "execution_count": 78,
   "id": "540369cf-91c7-4c43-8e1e-9f25e9e34d42",
   "metadata": {},
   "outputs": [
    {
     "name": "stderr",
     "output_type": "stream",
     "text": [
      "/var/folders/3c/j38b7dwj7svg35_f7s8xvg_h0000gn/T/ipykernel_33365/1867440749.py:2: LangGraphDeprecationWarning: Initializing StateGraph without state_schema is deprecated. Please pass in an explicit state_schema instead of just an input and output schema.\n",
      "  workflow_builder = StateGraph(input=InputState, output=OutputState)\n"
     ]
    }
   ],
   "source": [
    "# Set up the workflow\n",
    "workflow_builder = StateGraph(input=InputState, output=OutputState)\n",
    "workflow_builder.add_node(\"guess\", user_guess)\n",
    "workflow_builder.add_node(\"roll_the_dice\", roll_dice)\n",
    "workflow_builder.add_node(\"success\", success_message)\n",
    "workflow_builder.add_node(\"failure\", passifying_message)\n",
    "\n",
    "workflow_builder.add_edge(START, \"guess\")\n",
    "workflow_builder.add_edge(\"guess\", \"roll_the_dice\")\n",
    "workflow_builder.add_conditional_edges(\"roll_the_dice\", router)\n",
    "workflow_builder.add_edge(\"success\", END)\n",
    "workflow_builder.add_edge(\"failure\", END)\n",
    "\n",
    "workflow = workflow_builder.compile()\n"
   ]
  },
  {
   "cell_type": "code",
   "execution_count": 81,
   "id": "255baca9-bf8c-4175-8db4-e639c94c49cc",
   "metadata": {},
   "outputs": [
    {
     "name": "stdout",
     "output_type": "stream",
     "text": [
      "Visulaizing the Workflow...\n"
     ]
    },
    {
     "data": {
      "image/png": "[encoded data removed]",
      "text/plain": [
       "<IPython.core.display.Image object>"
      ]
     },
     "metadata": {},
     "output_type": "display_data"
    }
   ],
   "source": [
    "# Visualize the workflow\n",
    "from IPython.display import Image, display\n",
    "from langchain_core.runnables.graph import MermaidDrawMethod\n",
    "\n",
    "print(\"Visulaizing the Workflow...\")\n",
    "\n",
    "display(\n",
    "    Image(\n",
    "        workflow.get_graph().draw_mermaid_png(\n",
    "            draw_method=MermaidDrawMethod.API,\n",
    "        )\n",
    "    )\n",
    ")"
   ]
  },
  {
   "cell_type": "code",
   "execution_count": 80,
   "id": "55a79c68-9210-421e-8548-618dec6318ad",
   "metadata": {},
   "outputs": [
    {
     "name": "stdout",
     "output_type": "stream",
     "text": [
      "User Guessed - 5\n",
      "Dice Roll - 6\n",
      "Final Response - Once, a young artist was feeling disheartened because they couldn't sell any of their paintings. One day, they decided to paint a vibrant mural on an old, abandoned wall in their town. The mural depicted a beautiful sunrise, symbolizing hope and new beginnings. As days passed, people began to notice the mural and were deeply moved by its message. Soon, the artist's work gained recognition, and they started receiving commissions for more paintings. This story shows that even when we feel down on our luck, our talents and passions can still bring joy and inspiration to others, ultimately leading to success and happiness.\n"
     ]
    }
   ],
   "source": [
    "# Execute the workflow\n",
    "response = await workflow.ainvoke(\n",
    "        InputState(\n",
    "            query='My guess is a 5',\n",
    "        )\n",
    "    )\n",
    "\n",
    "print(f'User Guessed - {response[\"user_guess\"]}')\n",
    "print(f'Dice Roll - {response[\"dice_roll\"]}')\n",
    "print(f'Final Response - {response[\"response\"]}')\n"
   ]
  },
  {
   "cell_type": "code",
   "execution_count": null,
   "id": "60562efc-1c2e-491a-8c91-68b6e9fcf51c",
   "metadata": {},
   "outputs": [],
   "source": []
  }
 ],
 "metadata": {
  "kernelspec": {
   "display_name": "Python 3 (ipykernel)",
   "language": "python",
   "name": "python3"
  },
  "language_info": {
   "codemirror_mode": {
    "name": "ipython",
    "version": 3
   },
   "file_extension": ".py",
   "mimetype": "text/x-python",
   "name": "python",
   "nbconvert_exporter": "python",
   "pygments_lexer": "ipython3",
   "version": "3.10.15"
  }
 },
 "nbformat": 4,
 "nbformat_minor": 5
}
